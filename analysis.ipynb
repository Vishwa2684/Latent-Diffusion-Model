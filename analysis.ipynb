{
 "cells": [
  {
   "cell_type": "code",
   "execution_count": 1,
   "metadata": {},
   "outputs": [],
   "source": [
    "import os\n",
    "path = './coco'\n",
    "import json\n",
    "file = open(path+\"/annotations/captions_train2014.json\")\n",
    "captions = json.load(file)"
   ]
  },
  {
   "cell_type": "code",
   "execution_count": 2,
   "metadata": {},
   "outputs": [
    {
     "data": {
      "text/plain": [
       "dict_keys(['info', 'images', 'licenses', 'annotations'])"
      ]
     },
     "execution_count": 2,
     "metadata": {},
     "output_type": "execute_result"
    }
   ],
   "source": [
    "captions.keys()"
   ]
  },
  {
   "cell_type": "code",
   "execution_count": 3,
   "metadata": {},
   "outputs": [
    {
     "data": {
      "text/plain": [
       "{'description': 'COCO 2014 Dataset',\n",
       " 'url': 'http://cocodataset.org',\n",
       " 'version': '1.0',\n",
       " 'year': 2014,\n",
       " 'contributor': 'COCO Consortium',\n",
       " 'date_created': '2017/09/01'}"
      ]
     },
     "execution_count": 3,
     "metadata": {},
     "output_type": "execute_result"
    }
   ],
   "source": [
    "captions['info']"
   ]
  },
  {
   "cell_type": "code",
   "execution_count": 4,
   "metadata": {},
   "outputs": [
    {
     "data": {
      "text/plain": [
       "[{'url': 'http://creativecommons.org/licenses/by-nc-sa/2.0/',\n",
       "  'id': 1,\n",
       "  'name': 'Attribution-NonCommercial-ShareAlike License'},\n",
       " {'url': 'http://creativecommons.org/licenses/by-nc/2.0/',\n",
       "  'id': 2,\n",
       "  'name': 'Attribution-NonCommercial License'},\n",
       " {'url': 'http://creativecommons.org/licenses/by-nc-nd/2.0/',\n",
       "  'id': 3,\n",
       "  'name': 'Attribution-NonCommercial-NoDerivs License'},\n",
       " {'url': 'http://creativecommons.org/licenses/by/2.0/',\n",
       "  'id': 4,\n",
       "  'name': 'Attribution License'},\n",
       " {'url': 'http://creativecommons.org/licenses/by-sa/2.0/',\n",
       "  'id': 5,\n",
       "  'name': 'Attribution-ShareAlike License'},\n",
       " {'url': 'http://creativecommons.org/licenses/by-nd/2.0/',\n",
       "  'id': 6,\n",
       "  'name': 'Attribution-NoDerivs License'},\n",
       " {'url': 'http://flickr.com/commons/usage/',\n",
       "  'id': 7,\n",
       "  'name': 'No known copyright restrictions'},\n",
       " {'url': 'http://www.usa.gov/copyright.shtml',\n",
       "  'id': 8,\n",
       "  'name': 'United States Government Work'}]"
      ]
     },
     "execution_count": 4,
     "metadata": {},
     "output_type": "execute_result"
    }
   ],
   "source": [
    "captions['licenses']"
   ]
  },
  {
   "cell_type": "code",
   "execution_count": 5,
   "metadata": {},
   "outputs": [
    {
     "data": {
      "text/plain": [
       "[{'license': 5,\n",
       "  'file_name': 'COCO_train2014_000000057870.jpg',\n",
       "  'coco_url': 'http://images.cocodataset.org/train2014/COCO_train2014_000000057870.jpg',\n",
       "  'height': 480,\n",
       "  'width': 640,\n",
       "  'date_captured': '2013-11-14 16:28:13',\n",
       "  'flickr_url': 'http://farm4.staticflickr.com/3153/2970773875_164f0c0b83_z.jpg',\n",
       "  'id': 57870},\n",
       " {'license': 5,\n",
       "  'file_name': 'COCO_train2014_000000384029.jpg',\n",
       "  'coco_url': 'http://images.cocodataset.org/train2014/COCO_train2014_000000384029.jpg',\n",
       "  'height': 429,\n",
       "  'width': 640,\n",
       "  'date_captured': '2013-11-14 16:29:45',\n",
       "  'flickr_url': 'http://farm3.staticflickr.com/2422/3577229611_3a3235458a_z.jpg',\n",
       "  'id': 384029}]"
      ]
     },
     "execution_count": 5,
     "metadata": {},
     "output_type": "execute_result"
    }
   ],
   "source": [
    "captions['images'][:2]"
   ]
  },
  {
   "cell_type": "code",
   "execution_count": 6,
   "metadata": {},
   "outputs": [
    {
     "data": {
      "text/plain": [
       "31"
      ]
     },
     "execution_count": 6,
     "metadata": {},
     "output_type": "execute_result"
    }
   ],
   "source": [
    "length = len(captions['images'][0]['file_name'])\n",
    "length"
   ]
  },
  {
   "cell_type": "code",
   "execution_count": 7,
   "metadata": {},
   "outputs": [
    {
     "data": {
      "text/plain": [
       "[{'image_id': 318556,\n",
       "  'id': 48,\n",
       "  'caption': 'A very clean and well decorated empty bathroom'},\n",
       " {'image_id': 116100,\n",
       "  'id': 67,\n",
       "  'caption': 'A panoramic view of a kitchen and all of its appliances.'}]"
      ]
     },
     "execution_count": 7,
     "metadata": {},
     "output_type": "execute_result"
    }
   ],
   "source": [
    "l = captions['annotations']\n",
    "l[:2]"
   ]
  },
  {
   "cell_type": "code",
   "execution_count": 8,
   "metadata": {},
   "outputs": [],
   "source": [
    "out_path = './reports'\n",
    "out = []\n",
    "temp = {}\n",
    "\n",
    "for d in l:\n",
    "    a = ''\n",
    "    key = f\"{a}{d['image_id']}.jpg\"\n",
    "    while len(key) != length:  \n",
    "        a += '0'\n",
    "        key = f\"{a}{d['image_id']}.jpg\"\n",
    "    \n",
    "    if key not in temp:\n",
    "        temp[key] = [d['caption']] \n",
    "    else:\n",
    "        temp[key].append(d['caption'])\n",
    "for k, v in temp.items():\n",
    "    out.append({k: v})\n",
    "\n"
   ]
  },
  {
   "cell_type": "code",
   "execution_count": 12,
   "metadata": {},
   "outputs": [
    {
     "data": {
      "text/plain": [
       "['A graffiti-ed stop sign across the street from a red car ',\n",
       " 'A vandalized stop sign and a red beetle on the road',\n",
       " 'A red stop sign with a Bush bumper sticker under the word stop.',\n",
       " 'A stop sign that has been vandalized is pictured in front of a parked car.',\n",
       " 'A street sign modified to read stop bush.']"
      ]
     },
     "execution_count": 12,
     "metadata": {},
     "output_type": "execute_result"
    }
   ],
   "source": [
    "temp['000000000000000000000379340.jpg']"
   ]
  },
  {
   "cell_type": "code",
   "execution_count": 13,
   "metadata": {},
   "outputs": [
    {
     "name": "stdout",
     "output_type": "stream",
     "text": [
      "{'000000000000000000000318556.jpg': ['A very clean and well decorated empty bathroom', 'A blue and white bathroom with butterfly themed wall tiles.', 'A bathroom with a border of butterflies and blue paint on the walls above it.', 'An angled view of a beautifully decorated bathroom.', 'A clock that blends in with the wall hangs in a bathroom. ']}\n",
      "{'000000000000000000000116100.jpg': ['A panoramic view of a kitchen and all of its appliances.', 'A panoramic photo of a kitchen and dining room', 'A wide angle view of the kitchen work area', 'multiple photos of a brown and white kitchen. ', 'A kitchen that has a checkered patterned floor and white cabinets.']}\n",
      "{'000000000000000000000379340.jpg': ['A graffiti-ed stop sign across the street from a red car ', 'A vandalized stop sign and a red beetle on the road', 'A red stop sign with a Bush bumper sticker under the word stop.', 'A stop sign that has been vandalized is pictured in front of a parked car.', 'A street sign modified to read stop bush.']}\n",
      "{'000000000000000000000134754.jpg': ['The two people are walking down the beach.', 'Two people carrying surf boards on a beach.', 'Two teenagers at a white sanded beach with surfboards.', 'A couple at the beach walking with their surf boards.', 'A guy and a girl are walking on the beach holding surfboards.']}\n"
     ]
    }
   ],
   "source": [
    "count = 0\n",
    "for i in out:\n",
    "    print(i)\n",
    "    if count ==3:\n",
    "        break\n",
    "    count+=1\n"
   ]
  },
  {
   "cell_type": "code",
   "execution_count": 14,
   "metadata": {},
   "outputs": [
    {
     "data": {
      "text/plain": [
       "[{'000000000000000000000318556.jpg': ['A very clean and well decorated empty bathroom',\n",
       "   'A blue and white bathroom with butterfly themed wall tiles.',\n",
       "   'A bathroom with a border of butterflies and blue paint on the walls above it.',\n",
       "   'An angled view of a beautifully decorated bathroom.',\n",
       "   'A clock that blends in with the wall hangs in a bathroom. ']},\n",
       " {'000000000000000000000116100.jpg': ['A panoramic view of a kitchen and all of its appliances.',\n",
       "   'A panoramic photo of a kitchen and dining room',\n",
       "   'A wide angle view of the kitchen work area',\n",
       "   'multiple photos of a brown and white kitchen. ',\n",
       "   'A kitchen that has a checkered patterned floor and white cabinets.']},\n",
       " {'000000000000000000000379340.jpg': ['A graffiti-ed stop sign across the street from a red car ',\n",
       "   'A vandalized stop sign and a red beetle on the road',\n",
       "   'A red stop sign with a Bush bumper sticker under the word stop.',\n",
       "   'A stop sign that has been vandalized is pictured in front of a parked car.',\n",
       "   'A street sign modified to read stop bush.']},\n",
       " {'000000000000000000000134754.jpg': ['The two people are walking down the beach.',\n",
       "   'Two people carrying surf boards on a beach.',\n",
       "   'Two teenagers at a white sanded beach with surfboards.',\n",
       "   'A couple at the beach walking with their surf boards.',\n",
       "   'A guy and a girl are walking on the beach holding surfboards.']},\n",
       " {'000000000000000000000538480.jpg': ['A sink and a toilet inside a small bathroom.',\n",
       "   'White pedestal sink and toilet located in a poorly lit bathroom.',\n",
       "   'Clean indoor bathroom with tiled floor and good lighting.',\n",
       "   'a bathroom with toilet and sink and blue wall',\n",
       "   'a blue bathroom with a sink and toilet']}]"
      ]
     },
     "execution_count": 14,
     "metadata": {},
     "output_type": "execute_result"
    }
   ],
   "source": [
    "out[:5]"
   ]
  },
  {
   "cell_type": "code",
   "execution_count": 11,
   "metadata": {},
   "outputs": [],
   "source": [
    "out_path = r'C:\\Users\\spnar\\OneDrive\\Desktop\\Project\\coco2017.json'\n",
    "with open(out_path,'w') as file:\n",
    "    json.dump(out,file)"
   ]
  },
  {
   "cell_type": "code",
   "execution_count": null,
   "metadata": {},
   "outputs": [],
   "source": []
  }
 ],
 "metadata": {
  "kernelspec": {
   "display_name": "Python 3",
   "language": "python",
   "name": "python3"
  },
  "language_info": {
   "codemirror_mode": {
    "name": "ipython",
    "version": 3
   },
   "file_extension": ".py",
   "mimetype": "text/x-python",
   "name": "python",
   "nbconvert_exporter": "python",
   "pygments_lexer": "ipython3",
   "version": "3.12.8"
  }
 },
 "nbformat": 4,
 "nbformat_minor": 2
}
