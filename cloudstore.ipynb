{
 "cells": [
  {
   "cell_type": "code",
   "execution_count": 12,
   "metadata": {},
   "outputs": [
    {
     "name": "stdout",
     "output_type": "stream",
     "text": [
      "/teamspace/studios/this_studio/conditional-DDPM\n"
     ]
    }
   ],
   "source": [
    "!pwd"
   ]
  },
  {
   "cell_type": "markdown",
   "metadata": {},
   "source": [
    "# This snippet is used to upload Model weights to MEGACLOUD"
   ]
  },
  {
   "cell_type": "code",
   "execution_count": 14,
   "metadata": {},
   "outputs": [],
   "source": [
    "from mega import Mega\n",
    "import os"
   ]
  },
  {
   "cell_type": "code",
   "execution_count": 15,
   "metadata": {},
   "outputs": [],
   "source": [
    "# Initialize MEGA\n",
    "mega = Mega()\n",
    "\n",
    "# Login to your MEGA account\n",
    "email = \"\"\n",
    "password = \"\"\n",
    "mega_instance = mega.login(email,password)"
   ]
  },
  {
   "cell_type": "code",
   "execution_count": 16,
   "metadata": {},
   "outputs": [
    {
     "data": {
      "text/plain": [
       "<mega.mega.Mega at 0x7f844a5c1690>"
      ]
     },
     "execution_count": 16,
     "metadata": {},
     "output_type": "execute_result"
    }
   ],
   "source": [
    "mega_instance"
   ]
  },
  {
   "cell_type": "code",
   "execution_count": 17,
   "metadata": {},
   "outputs": [
    {
     "name": "stdout",
     "output_type": "stream",
     "text": [
      "Uploading folder: /teamspace/studios/this_studio/conditional-DDPM/ldm_checkpoints\n",
      "Uploading folder: /teamspace/studios/this_studio/conditional-DDPM/ldm_checkpoints/epoch_1\n",
      "Uploading file: /teamspace/studios/this_studio/conditional-DDPM/ldm_checkpoints/epoch_1/training_state.pth\n"
     ]
    },
    {
     "name": "stdout",
     "output_type": "stream",
     "text": [
      "Uploading folder: /teamspace/studios/this_studio/conditional-DDPM/ldm_checkpoints/epoch_1/unet\n",
      "Uploading file: /teamspace/studios/this_studio/conditional-DDPM/ldm_checkpoints/epoch_1/unet/config.json\n",
      "Uploading file: /teamspace/studios/this_studio/conditional-DDPM/ldm_checkpoints/epoch_1/unet/diffusion_pytorch_model.safetensors\n",
      "Uploading file: /teamspace/studios/this_studio/conditional-DDPM/ldm_checkpoints/epoch_1/unet/config.json\n",
      "Uploading file: /teamspace/studios/this_studio/conditional-DDPM/ldm_checkpoints/epoch_1/unet/diffusion_pytorch_model.safetensors\n",
      "Uploading folder: /teamspace/studios/this_studio/conditional-DDPM/ldm_checkpoints/epoch_2\n",
      "Uploading file: /teamspace/studios/this_studio/conditional-DDPM/ldm_checkpoints/epoch_2/training_state.pth\n",
      "Uploading folder: /teamspace/studios/this_studio/conditional-DDPM/ldm_checkpoints/epoch_2/unet\n",
      "Uploading file: /teamspace/studios/this_studio/conditional-DDPM/ldm_checkpoints/epoch_2/unet/config.json\n",
      "Uploading file: /teamspace/studios/this_studio/conditional-DDPM/ldm_checkpoints/epoch_2/unet/diffusion_pytorch_model.safetensors\n",
      "Uploading file: /teamspace/studios/this_studio/conditional-DDPM/ldm_checkpoints/epoch_2/unet/config.json\n",
      "Uploading file: /teamspace/studios/this_studio/conditional-DDPM/ldm_checkpoints/epoch_2/unet/diffusion_pytorch_model.safetensors\n",
      "Uploading file: /teamspace/studios/this_studio/conditional-DDPM/ldm_checkpoints/epoch_1/training_state.pth\n",
      "Uploading folder: /teamspace/studios/this_studio/conditional-DDPM/ldm_checkpoints/epoch_1/unet\n",
      "Uploading file: /teamspace/studios/this_studio/conditional-DDPM/ldm_checkpoints/epoch_1/unet/config.json\n",
      "Uploading file: /teamspace/studios/this_studio/conditional-DDPM/ldm_checkpoints/epoch_1/unet/diffusion_pytorch_model.safetensors\n",
      "Uploading file: /teamspace/studios/this_studio/conditional-DDPM/ldm_checkpoints/epoch_1/unet/config.json\n",
      "Uploading file: /teamspace/studios/this_studio/conditional-DDPM/ldm_checkpoints/epoch_1/unet/diffusion_pytorch_model.safetensors\n",
      "Uploading file: /teamspace/studios/this_studio/conditional-DDPM/ldm_checkpoints/epoch_2/training_state.pth\n",
      "Uploading folder: /teamspace/studios/this_studio/conditional-DDPM/ldm_checkpoints/epoch_2/unet\n",
      "Uploading file: /teamspace/studios/this_studio/conditional-DDPM/ldm_checkpoints/epoch_2/unet/config.json\n",
      "Uploading file: /teamspace/studios/this_studio/conditional-DDPM/ldm_checkpoints/epoch_2/unet/diffusion_pytorch_model.safetensors\n",
      "Uploading file: /teamspace/studios/this_studio/conditional-DDPM/ldm_checkpoints/epoch_2/unet/config.json\n",
      "Uploading file: /teamspace/studios/this_studio/conditional-DDPM/ldm_checkpoints/epoch_2/unet/diffusion_pytorch_model.safetensors\n",
      "Folder uploaded successfully!\n"
     ]
    }
   ],
   "source": [
    "def upload_folder(folder_path, mega_instance):\n",
    "    \"\"\"\n",
    "    Recursively uploads a folder and its contents to MEGA.\n",
    "    \"\"\"\n",
    "    print(f\"Uploading folder: {folder_path}\")\n",
    "\n",
    "    # Iterate through all files and subfolders in the directory\n",
    "    for root, dirs, files in os.walk(folder_path):\n",
    "        for file in files:\n",
    "            file_path = os.path.join(root, file)\n",
    "            print(f\"Uploading file: {file_path}\")\n",
    "            mega_instance.upload(file_path)\n",
    "        for dir in dirs:\n",
    "            subfolder_path = os.path.join(root, dir)\n",
    "            upload_folder(subfolder_path, mega_instance)\n",
    "\n",
    "# Folder path to upload\n",
    "folder_path = \"/teamspace/studios/this_studio/conditional-DDPM/ldm_checkpoints\"\n",
    "\n",
    "# Upload the folder\n",
    "upload_folder(folder_path, mega_instance)\n",
    "print(\"Folder uploaded successfully!\")"
   ]
  }
 ],
 "metadata": {
  "language_info": {
   "name": "python"
  }
 },
 "nbformat": 4,
 "nbformat_minor": 2
}
