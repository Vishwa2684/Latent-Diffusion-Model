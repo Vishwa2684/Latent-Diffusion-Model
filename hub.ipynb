{
 "cells": [
  {
   "cell_type": "code",
   "execution_count": 1,
   "metadata": {},
   "outputs": [
    {
     "name": "stdout",
     "output_type": "stream",
     "text": [
      "Requirement already satisfied: huggingface_hub in /system/conda/miniconda3/envs/cloudspace/lib/python3.10/site-packages (0.26.5)\n",
      "Requirement already satisfied: filelock in /system/conda/miniconda3/envs/cloudspace/lib/python3.10/site-packages (from huggingface_hub) (3.16.1)\n",
      "Requirement already satisfied: fsspec>=2023.5.0 in /system/conda/miniconda3/envs/cloudspace/lib/python3.10/site-packages (from huggingface_hub) (2024.10.0)\n",
      "Requirement already satisfied: packaging>=20.9 in /system/conda/miniconda3/envs/cloudspace/lib/python3.10/site-packages (from huggingface_hub) (24.2)\n",
      "Requirement already satisfied: pyyaml>=5.1 in /system/conda/miniconda3/envs/cloudspace/lib/python3.10/site-packages (from huggingface_hub) (6.0.2)\n",
      "Requirement already satisfied: requests in /system/conda/miniconda3/envs/cloudspace/lib/python3.10/site-packages (from huggingface_hub) (2.32.3)\n",
      "Requirement already satisfied: tqdm>=4.42.1 in /system/conda/miniconda3/envs/cloudspace/lib/python3.10/site-packages (from huggingface_hub) (4.67.1)\n",
      "Requirement already satisfied: typing-extensions>=3.7.4.3 in /system/conda/miniconda3/envs/cloudspace/lib/python3.10/site-packages (from huggingface_hub) (4.12.2)\n",
      "Requirement already satisfied: charset-normalizer<4,>=2 in /system/conda/miniconda3/envs/cloudspace/lib/python3.10/site-packages (from requests->huggingface_hub) (3.4.0)\n",
      "Requirement already satisfied: idna<4,>=2.5 in /system/conda/miniconda3/envs/cloudspace/lib/python3.10/site-packages (from requests->huggingface_hub) (3.10)\n",
      "Requirement already satisfied: urllib3<3,>=1.21.1 in /system/conda/miniconda3/envs/cloudspace/lib/python3.10/site-packages (from requests->huggingface_hub) (2.2.3)\n",
      "Requirement already satisfied: certifi>=2017.4.17 in /system/conda/miniconda3/envs/cloudspace/lib/python3.10/site-packages (from requests->huggingface_hub) (2024.8.30)\n"
     ]
    }
   ],
   "source": [
    "!pip install huggingface_hub"
   ]
  },
  {
   "cell_type": "code",
   "execution_count": 2,
   "metadata": {},
   "outputs": [
    {
     "name": "stdout",
     "output_type": "stream",
     "text": [
      "\n",
      "    _|    _|  _|    _|    _|_|_|    _|_|_|  _|_|_|  _|      _|    _|_|_|      _|_|_|_|    _|_|      _|_|_|  _|_|_|_|\n",
      "    _|    _|  _|    _|  _|        _|          _|    _|_|    _|  _|            _|        _|    _|  _|        _|\n",
      "    _|_|_|_|  _|    _|  _|  _|_|  _|  _|_|    _|    _|  _|  _|  _|  _|_|      _|_|_|    _|_|_|_|  _|        _|_|_|\n",
      "    _|    _|  _|    _|  _|    _|  _|    _|    _|    _|    _|_|  _|    _|      _|        _|    _|  _|        _|\n",
      "    _|    _|    _|_|      _|_|_|    _|_|_|  _|_|_|  _|      _|    _|_|_|      _|        _|    _|    _|_|_|  _|_|_|_|\n",
      "\n"
     ]
    }
   ],
   "source": [
    "from huggingface_hub import interpreter_login\n",
    "interpreter_login()  # This will prompt for your HF token"
   ]
  },
  {
   "cell_type": "code",
   "execution_count": 3,
   "metadata": {},
   "outputs": [
    {
     "data": {
      "application/vnd.jupyter.widget-view+json": {
       "model_id": "5cbbbafb61d944d893c9a494172a06dc",
       "version_major": 2,
       "version_minor": 0
      },
      "text/plain": [
       "training_state.pth:   0%|          | 0.00/1.68G [00:00<?, ?B/s]"
      ]
     },
     "metadata": {},
     "output_type": "display_data"
    },
    {
     "data": {
      "application/vnd.jupyter.widget-view+json": {
       "model_id": "a4c7639df9a441b08d79788081a60220",
       "version_major": 2,
       "version_minor": 0
      },
      "text/plain": [
       "training_state.pth:   0%|          | 0.00/1.68G [00:00<?, ?B/s]"
      ]
     },
     "metadata": {},
     "output_type": "display_data"
    },
    {
     "data": {
      "application/vnd.jupyter.widget-view+json": {
       "model_id": "77203049e2a643d596ea8cd12877ee01",
       "version_major": 2,
       "version_minor": 0
      },
      "text/plain": [
       "Upload 2 LFS files:   0%|          | 0/2 [00:00<?, ?it/s]"
      ]
     },
     "metadata": {},
     "output_type": "display_data"
    },
    {
     "name": "stdout",
     "output_type": "stream",
     "text": [
      "Successfully pushed checkpoints to: https://huggingface.co/vish26/Latent-Diffusion-Model\n"
     ]
    }
   ],
   "source": [
    "from huggingface_hub import HfApi, create_repo\n",
    "import os\n",
    "import shutil\n",
    "\n",
    "def push_to_hub(checkpoint_path, repo_name, organization=None):\n",
    "    \"\"\"\n",
    "    Push LDM checkpoints to Hugging Face Hub\n",
    "    \n",
    "    Args:\n",
    "        checkpoint_path (str): Path to your ldm_checkpoints folder\n",
    "        repo_name (str): Name for your Hugging Face repository\n",
    "        organization (str, optional): Organization name if pushing to an organization\n",
    "    \"\"\"\n",
    "    # Initialize Hugging Face API\n",
    "    api = HfApi()\n",
    "    \n",
    "    # Create the repository\n",
    "    full_repo_name = f\"{organization}/{repo_name}\" if organization else repo_name\n",
    "    create_repo(full_repo_name, repo_type=\"model\", exist_ok=True)\n",
    "    \n",
    "    # Create a temporary directory to organize files\n",
    "    temp_dir = \"temp_upload\"\n",
    "    os.makedirs(temp_dir, exist_ok=True)\n",
    "    \n",
    "    try:\n",
    "        # Copy and organize files\n",
    "        for epoch_folder in os.listdir(checkpoint_path):\n",
    "            epoch_path = os.path.join(checkpoint_path, epoch_folder)\n",
    "            if os.path.isdir(epoch_path):\n",
    "                # Create epoch directory in temp\n",
    "                epoch_temp_path = os.path.join(temp_dir, epoch_folder)\n",
    "                os.makedirs(epoch_temp_path, exist_ok=True)\n",
    "                \n",
    "                # Copy files\n",
    "                for item in os.listdir(epoch_path):\n",
    "                    src = os.path.join(epoch_path, item)\n",
    "                    dst = os.path.join(epoch_temp_path, item)\n",
    "                    if os.path.isfile(src):\n",
    "                        shutil.copy2(src, dst)\n",
    "        \n",
    "        # Upload all files\n",
    "        api.upload_folder(\n",
    "            folder_path=temp_dir,\n",
    "            repo_id=full_repo_name,\n",
    "            repo_type=\"model\"\n",
    "        )\n",
    "        \n",
    "        print(f\"Successfully pushed checkpoints to: https://huggingface.co/{full_repo_name}\")\n",
    "        \n",
    "    finally:\n",
    "        # Cleanup\n",
    "        if os.path.exists(temp_dir):\n",
    "            shutil.rmtree(temp_dir)\n",
    "\n",
    "# Example usage\n",
    "checkpoint_path = \"./ldm_checkpoints\"  # Your checkpoints folder path\n",
    "repo_name = \"Latent-Diffusion-Model\"  # Choose your repository name\n",
    "\n",
    "# Push to your personal account\n",
    "push_to_hub(checkpoint_path, repo_name,organization=\"vish26\")\n"
   ]
  }
 ],
 "metadata": {
  "language_info": {
   "name": "python"
  }
 },
 "nbformat": 4,
 "nbformat_minor": 2
}
